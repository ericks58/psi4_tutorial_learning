{
 "cells": [
  {
   "cell_type": "code",
   "execution_count": 14,
   "id": "a1e7db60-99d5-42bd-a7ae-62e7c20182c2",
   "metadata": {},
   "outputs": [],
   "source": [
    "import pyscf\n",
    "from pyscf import dft\n",
    "from pyscf import gto\n",
    "from pyscf import lib\n",
    "from pyscf.dft import libxc\n",
    "from pyscf.dft import numint\n",
    "from pyscf.dft import xc_deriv\n",
    "import ctypes\n",
    "import numpy as np\n",
    "import matplotlib.pyplot as plt\n",
    "from mpl_toolkits.mplot3d import Axes3D\n"
   ]
  },
  {
   "cell_type": "code",
   "execution_count": 16,
   "id": "a975dac1-952b-4bba-acbf-53906032822e",
   "metadata": {},
   "outputs": [
    {
     "name": "stdout",
     "output_type": "stream",
     "text": [
      "converged SCF energy = -0.995650548182693\n"
     ]
    },
    {
     "data": {
      "text/plain": [
       "np.float64(-0.9956505481826932)"
      ]
     },
     "execution_count": 16,
     "metadata": {},
     "output_type": "execute_result"
    }
   ],
   "source": [
    "mol = gto.Mole()\n",
    "mol.atom='''\n",
    "    H 0 0 -1\n",
    "    H 0 0 1\n",
    "'''\n",
    "mol.basis = 'cc-pvdz'\n",
    "mol.symmetry = True\n",
    "mol.build()\n",
    "#spin = 0\n",
    "pbe_e = dft.RKS(mol)\n",
    "pbe_e.xc = 'pbe,pbe' #xc basis\n",
    "pbe_e.kernel()"
   ]
  },
  {
   "cell_type": "code",
   "execution_count": 56,
   "id": "e3b3d917-e763-46fc-a984-971ac7985715",
   "metadata": {},
   "outputs": [
    {
     "data": {
      "text/plain": [
       "<pyscf.dft.gen_grid.Grids at 0x17f261fd0>"
      ]
     },
     "execution_count": 56,
     "metadata": {},
     "output_type": "execute_result"
    }
   ],
   "source": [
    "grid = dft.gen_grid.Grids(mol)\n",
    "grid.level = 7\n",
    "grid.build()\n",
    "\n"
   ]
  },
  {
   "cell_type": "code",
   "execution_count": 58,
   "id": "a38d892a-9ed9-458b-a3b1-625819131582",
   "metadata": {},
   "outputs": [
    {
     "name": "stdout",
     "output_type": "stream",
     "text": [
      "(4, 100344, 10)\n",
      "Phi Matrix Dimensions: (100344, 10)\n"
     ]
    }
   ],
   "source": [
    "weights = grid.weights\n",
    "coords = grid.coords\n",
    "#get phi values and gradients from grid using numint method\n",
    "ao_value_grid = numint.eval_ao(mol, coords, deriv=1)\n",
    "print(ao_value_grid.shape)\n",
    "print(\"Phi Matrix Dimensions:\", ao_value_grid[0].shape)"
   ]
  },
  {
   "cell_type": "code",
   "execution_count": 60,
   "id": "754deeca-d996-45e5-ab65-07406d9d1d4a",
   "metadata": {},
   "outputs": [
    {
     "name": "stdout",
     "output_type": "stream",
     "text": [
      "(4, 100344)\n",
      "(10, 10)\n"
     ]
    }
   ],
   "source": [
    "phi = ao_value_grid[0]\n",
    "phix = ao_value_grid[1]\n",
    "phiy = ao_value_grid[2]\n",
    "phiz = ao_value_grid[3]\n",
    "\n",
    "dm = pbe_e.make_rdm1()\n",
    "rho_grid = numint.eval_rho(mol, ao_value_grid, dm, xctype='GGA')\n",
    "print(rho_grid.shape)\n",
    "print(dm.shape)"
   ]
  },
  {
   "cell_type": "code",
   "execution_count": 123,
   "id": "e86b64dd-f701-478c-9fbe-40a0008c67a1",
   "metadata": {},
   "outputs": [],
   "source": [
    "#can compute Exc as a group, or by parts (Ex, Ec) using numint method\n",
    "_itrf = lib.load_library('libxc_itrf')\n",
    "def evalexc(rho): #only density needed as variable\n",
    "    ni = numint.NumInt()\n",
    "    exc = ni.eval_xc(\"pbe,pbe\", rho, spin=0, relativity=0, deriv=1)\n",
    "    #calc totals\n",
    "    Exc = np.einsum('p,p,p->', exc[0], rho[0], weights)\n",
    "    vxc_list = exc[1] #vxc (restricted) = (vxcrho, vxcsigma, vlapl, vtau)\n",
    "    Vxctmp = 0.5*np.einsum('pb,p,p,pa->ab', phi, vxc_list[0], weights, phi, optimize=True) #vxcrho\n",
    "    Vxctmp += 2.0*np.einsum('pb,p,p,p,pa->ab', phix, vxc_list[1], rho[1], weights, phi, optimize = True) #vxcsigma\n",
    "    Vxctmp += 2.0*np.einsum('pb,p,p,p,pa->ab', phiy, vxc_list[1], rho[2], weights, phi, optimize = True) #vxcsigma\n",
    "    Vxctmp += 2.0*np.einsum('pb,p,p,p,pa->ab', phiz, vxc_list[1], rho[3], weights, phi, optimize = True) #vxcsigma\n",
    "    Vxc = Vxctmp+Vxctmp.T\n",
    "    return Exc, Vxc\n"
   ]
  },
  {
   "cell_type": "code",
   "execution_count": 125,
   "id": "a6dd3e6d-e494-428e-a6bf-207c2f29b2e8",
   "metadata": {},
   "outputs": [
    {
     "data": {
      "text/plain": [
       "['J. P. Perdew, K. Burke, and M. Ernzerhof.,  Phys. Rev. Lett. 77, 3865 (1996)',\n",
       " 'J. P. Perdew, K. Burke, and M. Ernzerhof.,  Phys. Rev. Lett. 78, 1396 (1997)']"
      ]
     },
     "execution_count": 125,
     "metadata": {},
     "output_type": "execute_result"
    }
   ],
   "source": [
    "dft.libxc.xc_reference('GGA_X_PBE')"
   ]
  },
  {
   "cell_type": "code",
   "execution_count": 94,
   "id": "718b1003-a333-4762-ac60-fc442e31d224",
   "metadata": {},
   "outputs": [
    {
     "name": "stdout",
     "output_type": "stream",
     "text": [
      "Exchange correlation energy: -0.5108681474766017\n",
      "-0.5108684514165607\n",
      "3.039399589788161e-07\n"
     ]
    }
   ],
   "source": [
    "#test function against kernel values\n",
    "print(\"Exchange correlation energy:\", pbe_e.get_veff().exc)\n",
    "test_e, test_v = evalexc(rho_grid)\n",
    "print(test_e)\n",
    "print(pbe_e.get_veff().exc - test_e)"
   ]
  },
  {
   "cell_type": "code",
   "execution_count": 97,
   "id": "56868817-79dd-4b9b-8c58-079477528e74",
   "metadata": {},
   "outputs": [
    {
     "name": "stdout",
     "output_type": "stream",
     "text": [
      "(10, 10)\n"
     ]
    }
   ],
   "source": [
    "#Set up SCF loop (define the variables)\n",
    "ndocc = mol.nelectron // 2 #number of occupied orbitals, each with 2 electrons\n",
    "I = mol.intor('int2e') #ERI Tensor\n",
    "S = mol.intor('int1e_ovlp') #Overlap matrix\n",
    "e_val, e_vec = np.linalg.eigh(S) #returns the eigenvalues[0] and eigenvectors[1] of a matrix\n",
    "A = e_vec @ np.diag(e_val**-0.5) @ e_vec.T\n",
    "\n",
    "T = mol.intor('int1e_kin')\n",
    "V = mol.intor('int1e_nuc') \n",
    "H = T+V\n",
    "\n",
    "#Fock matrix\n",
    "F_p = A.dot(H).dot(A)\n",
    "e, C_p = np.linalg.eigh(F_p) #eigenvalues = e, eigenvectors = C_p\n",
    "C = A.dot(C_p) #transforms the eigenvectors back to AO basis\n",
    "C_occ = C[:, :ndocc] #occupied orbitals, used for density matrix\n",
    "D =2* np.einsum('pi,qi->pq', C_occ, C_occ, optimize=True) #times 2 bc 2 e- per orbital\n",
    "print(D.shape)"
   ]
  },
  {
   "cell_type": "code",
   "execution_count": 105,
   "id": "e6b33214-bad6-4e18-bffa-585eea98617f",
   "metadata": {},
   "outputs": [
    {
     "name": "stdout",
     "output_type": "stream",
     "text": [
      "SCF Iteration   1: SCF Energy = -0.9956508521228675, diff_E = -9.95651E-01, dRMS = 9.65196E-12\n",
      "SCF Iteration   2: SCF Energy = -0.9956508521228662, diff_E = 1.33227E-15, dRMS = 5.23419E-11\n",
      "------\n",
      "SCF Converged, final RHF Energy: -0.9956508521229 [Eh]\n",
      "Coulomb Energy: 0.8628348373718194 Hartree\n",
      "Exchange-correlation energy: -0.5108686460934776 Hartree\n",
      "Nuclear repulsion energy: 0.26458860546 Hartree\n"
     ]
    }
   ],
   "source": [
    "#SCF Loop iterations\n",
    "E_old = 0.0\n",
    "MAXITER = 40\n",
    "E_conv = 1.00e-8\n",
    "D_conv = 1.00e-6\n",
    "F_list = []\n",
    "DIIS_RESID = []\n",
    "\n",
    "for i in range(1, MAXITER+1):\n",
    "    J = np.einsum('pqrs,rs->pq', I, D, optimize=True)\n",
    "    rho_grid = numint.eval_rho(mol, ao_value_grid, D, xctype=\"GGA\")\n",
    "    Exc, Vxc = evalexc(rho_grid)\n",
    "    F = H + J + Vxc\n",
    "    F_list.append(F)\n",
    "    \n",
    "    #Components of the total SCF energy\n",
    "    H_E = np.sum(D * H)\n",
    "    J_E = 0.5*np.sum(D*J)\n",
    "    \n",
    "    #DIIS resid\n",
    "    diis_r = A.dot(F.dot(D).dot(S) - S.dot(D).dot(F)).dot(A)\n",
    "    DIIS_RESID.append(diis_r)\n",
    "    #print(D)\n",
    "    #SCF energy\n",
    "    SCF_E = H_E + J_E + Exc + mol.energy_nuc() #total energy\n",
    "    #Check difference\n",
    "    diff_e = SCF_E - E_old\n",
    "    dRMS = np.mean(diis_r**2)**0.5\n",
    "    #Count iterations and keep track of values\n",
    "    print(\"SCF Iteration %3d: SCF Energy = %4.16f, diff_E = %1.5E, dRMS = %1.5E\" % (i, SCF_E, diff_e, dRMS))\n",
    "    #create break sequence\n",
    "    if (abs(diff_e) < E_conv) and (dRMS < D_conv):\n",
    "        break\n",
    "    #Redefine variables for next iteration\n",
    "    E_old = SCF_E\n",
    "    #Update DIIS for better convergence - B matrix \n",
    "    if i >=2:\n",
    "        B_dim = len(F_list)+1\n",
    "        B = np.empty((B_dim, B_dim))\n",
    "        B[-1,:] = -1\n",
    "        B[:,-1] = -1\n",
    "        B[-1, -1] = 0\n",
    "        for j in range(len(F_list)):\n",
    "            for k in range(len(F_list)):\n",
    "                B[j, k] = np.einsum('jk,jk->', DIIS_RESID[j], DIIS_RESID[k], optimize=True)\n",
    "        #Pulay Equation\n",
    "        rhs = np.zeros((B_dim))\n",
    "        rhs[-1] = -1\n",
    "        coeff = np.linalg.solve(B, rhs) # solve pulay w/ numpy\n",
    "        F = np.zeros_like(F) #DIIS fock matrix\n",
    "        \n",
    "        for p in range(coeff.shape[0]-1):\n",
    "            F += coeff[p] * F_list[p]\n",
    "            \n",
    "    F_p = A.dot(F).dot(A) #new orbital guess, using DIIS F matrix\n",
    "    e, C_p = np.linalg.eigh(F_p)\n",
    "    C = A.dot(C_p)\n",
    "    C_occ = C[:, :ndocc]\n",
    "    \n",
    "    D = 2*np.einsum('pi,qi->pq', C_occ, C_occ, optimize=True)\n",
    "    #D matrix improved upon for next iteration\n",
    "    #Now failsafe in case doesn't converge\n",
    "    if (i==MAXITER):\n",
    "        raise Exception(\"Too many iterations before Convergence\")\n",
    "print(\"------\")\n",
    "print(f\"SCF Converged, final RHF Energy: {SCF_E:.13f} [Eh]\")\n",
    "print(f'Coulomb Energy: {J_E} Hartree')\n",
    "print(f'Exchange-correlation energy: {Exc} Hartree')\n",
    "print(f'Nuclear repulsion energy: {mol.energy_nuc()} Hartree')"
   ]
  },
  {
   "cell_type": "code",
   "execution_count": 109,
   "id": "c29a193b-c9f2-4bcb-8d65-7d03c4c291ca",
   "metadata": {},
   "outputs": [
    {
     "name": "stdout",
     "output_type": "stream",
     "text": [
      "converged SCF energy = -0.995650548182693\n",
      "Coulomb energy: 0.8628345777106594 Hartree\n",
      "Exchange-correlation model: -0.5108681474766017 Hartree\n",
      "Nuclear repulsion model: 0.26458860546 Hartree\n",
      "Electronic Energy model: -1.2602391536426931 Hartree\n"
     ]
    }
   ],
   "source": [
    "#model calculation\n",
    "model = dft.RKS(mol)\n",
    "model.xc = 'pbe,pbe'\n",
    "model.kernel()\n",
    "print('Coulomb energy:', model.get_veff().ecoul, 'Hartree')\n",
    "print('Exchange-correlation model:', model.get_veff().exc, 'Hartree')\n",
    "print('Nuclear repulsion model:', model.energy_nuc(), 'Hartree')\n",
    "print('Electronic Energy model:', model.energy_elec()[0], 'Hartree') #(Eelec, 2e- contribution)"
   ]
  },
  {
   "cell_type": "code",
   "execution_count": null,
   "id": "fed8f716-4945-49d9-bfcc-5bb75de80f82",
   "metadata": {},
   "outputs": [],
   "source": []
  }
 ],
 "metadata": {
  "kernelspec": {
   "display_name": "Python [conda env:environment1]",
   "language": "python",
   "name": "conda-env-environment1-py"
  },
  "language_info": {
   "codemirror_mode": {
    "name": "ipython",
    "version": 3
   },
   "file_extension": ".py",
   "mimetype": "text/x-python",
   "name": "python",
   "nbconvert_exporter": "python",
   "pygments_lexer": "ipython3",
   "version": "3.12.9"
  }
 },
 "nbformat": 4,
 "nbformat_minor": 5
}
